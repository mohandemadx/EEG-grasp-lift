{
 "cells": [
  {
   "cell_type": "markdown",
   "metadata": {},
   "source": [
    "# Extracting Files"
   ]
  },
  {
   "cell_type": "code",
   "execution_count": null,
   "metadata": {},
   "outputs": [],
   "source": [
    "import zipfile\n",
    "with zipfile.ZipFile(\"Grasp-and-Lift EEG Detection/test.zip\",\"r\") as z:\n",
    "    z.extractall(\".\")\n",
    "with zipfile.ZipFile(\"Grasp-and-Lift EEG Detection/train.zip\",\"r\") as z:\n",
    "    z.extractall(\".\")\n"
   ]
  },
  {
   "cell_type": "markdown",
   "metadata": {},
   "source": [
    "# Visualization"
   ]
  },
  {
   "cell_type": "code",
   "execution_count": null,
   "metadata": {},
   "outputs": [],
   "source": [
    "import pandas as pd\n",
    "import matplotlib.pyplot as plt\n",
    "\n",
    "train_set_labels = pd.read_csv(\"train/subj1_series1_events.csv\")\n",
    "train_set_signals = pd.read_csv(\"train/subj1_series1_data.csv\")\n",
    "\n",
    "train_set_signals.head()\n",
    "axis = plt.gca()\n",
    "downSampleToShow = 500\n",
    "\n",
    "# EEG Channels: Fp1,Fp2,F7,F3,Fz,F4,F8,FC5,FC1,FC2,FC6,T7,C3,Cz,C4,T8,TP9,CP5,CP1,CP2,CP6,TP10,P7,P3,Pz,P4,P8,PO9,O1,Oz,O2,PO10\n",
    "# Plotting some Channels (Features)\n",
    "train_set_signals[::downSampleToShow].plot(x=\"id\", y=\"Fp1\", ax=axis)\n",
    "train_set_signals[::downSampleToShow].plot(x=\"id\", y=\"Fp2\", ax=axis)\n",
    "train_set_signals[::downSampleToShow].plot(x=\"id\", y=\"PO10\", ax=axis, figsize=(15,5))\n",
    "\n",
    "# Events: HandStart,FirstDigitTouch,BothStartLoadPhase,LiftOff,Replace,BothReleased\n",
    "# Plotting Targets (Classes)\n",
    "train_set_labels[::downSampleToShow].plot(figsize=(15,5))\n",
    "plt.show()"
   ]
  },
  {
   "cell_type": "markdown",
   "metadata": {},
   "source": [
    "# Showing Targets corisponding to Features"
   ]
  },
  {
   "cell_type": "code",
   "execution_count": null,
   "metadata": {},
   "outputs": [],
   "source": [
    "eeg_channels = train_set_signals.columns.drop('id')\n",
    "labels = train_set_labels.columns.drop(['id','FirstDigitTouch'])\n",
    "\n",
    "train_set_complete = pd.concat([train_set_signals, train_set_labels], axis=1)\n",
    "train_set_complete.insert(0, \"order\", range(0, len(train_set_complete)))\n",
    "\n",
    "train_set_complete.head()\n",
    "\n",
    "def highlight(indices,ax,color):\n",
    "    for i in range(len(indices)):\n",
    "        ax.axvspan(indices[i]-0.5, indices[i]+0.5, facecolor=color, edgecolor='none', alpha=.35)\n",
    "        \n",
    "secondsToShow = 8\n",
    "channelsToShow = 3\n",
    "labelsToShow = 6\n",
    "\n",
    "sample_set = train_set_complete[train_set_complete[\"order\"] < secondsToShow*500].drop(\"id\", axis=1).set_index(\"order\") #sample rate is 500hz \n",
    "colors=[\"red\",\"purple\", \"pink\", \"blue\", \"green\"]\n",
    "axes = sample_set.plot(y=eeg_channels[:channelsToShow],subplots=True, figsize=(15,10))\n",
    "\n",
    "for i in range(0, len(labels)):\n",
    "    print(labels[i], \"=\", colors[i])\n",
    "    \n",
    "for axis in axes:    \n",
    "    colorindex = 0\n",
    "    for label in labels[:labelsToShow]:\n",
    "        highlight(sample_set[sample_set[label]==1].index, axis, colors[colorindex])        \n",
    "        colorindex = colorindex + 1\n",
    "        \n",
    "plt.show()"
   ]
  },
  {
   "cell_type": "code",
   "execution_count": null,
   "metadata": {},
   "outputs": [],
   "source": [
    "import pandas as pd\n",
    "import matplotlib.pyplot as plt\n",
    "\n",
    "sub1_events_file = 'train/subj1_series1_events.csv'\n",
    "sub1_data_file = 'train/subj1_series1_data.csv'\n",
    "\n",
    "sub1_events = pd.read_csv(sub1_events_file)\n",
    "sub1_data = pd.read_csv(sub1_data_file)\n",
    "\n",
    "sub1 = pd.concat([sub1_events, sub1_data], axis = 1)\n",
    "sub1[\"time\"] = range(0, len(sub1))\n",
    "\n",
    "sample_sub1 = sub1[sub1[\"time\"] < 8*500]\n",
    "\n",
    "EventColors = {\"BothReleased\": \"green\", \"BothStartLoadPhase\": \"blue\", 'HandStart':'red', 'LiftOff': \"pink\", \"Replace\":\"purple\"}\n",
    "\n",
    "plot_columns = [\"O1\", \"O2\", \"C3\", \"C4\"]\n",
    "\n",
    "fig, axes = plt.subplots(nrows=len(plot_columns), ncols=1)\n",
    "\n",
    "for (i, y) in enumerate(plot_columns):\n",
    "    for event, color in EventColors.items():\n",
    "        # Plot all the columns\n",
    "        sample_sub1[sample_sub1[event] == 1].plot(kind=\"scatter\", x=\"time\", y=y, edgecolors='none', ax=axes[i], figsize=(10,8), color=color)\n",
    "    axes[i].legend()\n",
    "    \n",
    "    axes[i].fill_between(sample_sub1[\"time\"], sample_sub1[y], color='lightgrey', alpha=0.5)\n",
    "\n",
    "plt.show()"
   ]
  },
  {
   "cell_type": "markdown",
   "metadata": {},
   "source": [
    "# Imports"
   ]
  },
  {
   "cell_type": "code",
   "execution_count": 2,
   "metadata": {},
   "outputs": [],
   "source": [
    "import numpy as np\n",
    "import pandas as pd\n",
    "from sklearn.preprocessing import StandardScaler\n",
    "from sklearn.model_selection import train_test_split\n",
    "from sklearn.svm import SVC\n",
    "from sklearn.metrics import accuracy_score, precision_score, recall_score,f1_score,roc_auc_score\n",
    "import matplotlib.pyplot as plt\n",
    "from sklearn import metrics\n",
    "import glob\n",
    "from scipy import signal\n",
    "import seaborn as sn"
   ]
  },
  {
   "cell_type": "markdown",
   "metadata": {},
   "source": [
    "# Reading Training Data"
   ]
  },
  {
   "cell_type": "code",
   "execution_count": 3,
   "metadata": {},
   "outputs": [
    {
     "name": "stdout",
     "output_type": "stream",
     "text": [
      "(119496, 32)\n",
      "(119496, 6)\n"
     ]
    }
   ],
   "source": [
    "#read csv file from the path\n",
    "xpath = r'train' \n",
    "xfiles = glob.glob(xpath + \"/*data.csv\")\n",
    "ypath = r'train' \n",
    "yfiles = glob.glob(ypath + \"/*events.csv\")\n",
    "\n",
    "xli = []\n",
    "yli = []\n",
    "\n",
    "for f in xfiles:\n",
    "    df = pd.read_csv(f, index_col=None, header=0)\n",
    "    xli.append(df)\n",
    "\n",
    "for f in yfiles:\n",
    "    df = pd.read_csv(f, index_col=None, header=0)\n",
    "    yli.append(df)\n",
    "    \n",
    "#concatatenate all the dataframes in the li\n",
    "x_df = pd.concat(xli, axis=0, ignore_index=True)\n",
    "x_df = x_df.iloc[:,1:]\n",
    "x_data=x_df.values\n",
    "\n",
    "y_df = pd.concat(yli, axis=0, ignore_index=True)\n",
    "y_df = y_df.iloc[:,1:]\n",
    "y_data=y_df.values\n",
    "\n",
    "print(x_data.shape)\n",
    "print(y_data.shape)\n"
   ]
  },
  {
   "cell_type": "code",
   "execution_count": 4,
   "metadata": {},
   "outputs": [
    {
     "data": {
      "text/html": [
       "<div>\n",
       "<style scoped>\n",
       "    .dataframe tbody tr th:only-of-type {\n",
       "        vertical-align: middle;\n",
       "    }\n",
       "\n",
       "    .dataframe tbody tr th {\n",
       "        vertical-align: top;\n",
       "    }\n",
       "\n",
       "    .dataframe thead th {\n",
       "        text-align: right;\n",
       "    }\n",
       "</style>\n",
       "<table border=\"1\" class=\"dataframe\">\n",
       "  <thead>\n",
       "    <tr style=\"text-align: right;\">\n",
       "      <th></th>\n",
       "      <th>0</th>\n",
       "      <th>1</th>\n",
       "      <th>2</th>\n",
       "      <th>3</th>\n",
       "      <th>4</th>\n",
       "      <th>5</th>\n",
       "      <th>6</th>\n",
       "      <th>7</th>\n",
       "      <th>8</th>\n",
       "      <th>9</th>\n",
       "      <th>...</th>\n",
       "      <th>22</th>\n",
       "      <th>23</th>\n",
       "      <th>24</th>\n",
       "      <th>25</th>\n",
       "      <th>26</th>\n",
       "      <th>27</th>\n",
       "      <th>28</th>\n",
       "      <th>29</th>\n",
       "      <th>30</th>\n",
       "      <th>31</th>\n",
       "    </tr>\n",
       "  </thead>\n",
       "  <tbody>\n",
       "    <tr>\n",
       "      <th>0</th>\n",
       "      <td>-0.794134</td>\n",
       "      <td>-0.131257</td>\n",
       "      <td>-0.903003</td>\n",
       "      <td>-0.463655</td>\n",
       "      <td>0.471960</td>\n",
       "      <td>-1.934637</td>\n",
       "      <td>1.752789</td>\n",
       "      <td>-0.985319</td>\n",
       "      <td>-0.469411</td>\n",
       "      <td>1.134326</td>\n",
       "      <td>...</td>\n",
       "      <td>0.386875</td>\n",
       "      <td>0.900987</td>\n",
       "      <td>1.025592</td>\n",
       "      <td>-0.213575</td>\n",
       "      <td>0.959244</td>\n",
       "      <td>0.875635</td>\n",
       "      <td>0.760154</td>\n",
       "      <td>0.769698</td>\n",
       "      <td>0.205824</td>\n",
       "      <td>2.433033</td>\n",
       "    </tr>\n",
       "    <tr>\n",
       "      <th>1</th>\n",
       "      <td>-0.788785</td>\n",
       "      <td>-0.198203</td>\n",
       "      <td>-0.878923</td>\n",
       "      <td>-0.453854</td>\n",
       "      <td>0.549902</td>\n",
       "      <td>-1.099257</td>\n",
       "      <td>1.498176</td>\n",
       "      <td>-0.733902</td>\n",
       "      <td>-0.399023</td>\n",
       "      <td>1.198530</td>\n",
       "      <td>...</td>\n",
       "      <td>0.355357</td>\n",
       "      <td>0.762135</td>\n",
       "      <td>0.951825</td>\n",
       "      <td>-0.314675</td>\n",
       "      <td>0.983415</td>\n",
       "      <td>0.683016</td>\n",
       "      <td>0.513337</td>\n",
       "      <td>0.599590</td>\n",
       "      <td>0.061551</td>\n",
       "      <td>2.579445</td>\n",
       "    </tr>\n",
       "    <tr>\n",
       "      <th>2</th>\n",
       "      <td>-1.171230</td>\n",
       "      <td>-0.402229</td>\n",
       "      <td>-1.413490</td>\n",
       "      <td>-0.600867</td>\n",
       "      <td>0.549902</td>\n",
       "      <td>0.305083</td>\n",
       "      <td>1.239389</td>\n",
       "      <td>-0.980290</td>\n",
       "      <td>-0.671779</td>\n",
       "      <td>1.286810</td>\n",
       "      <td>...</td>\n",
       "      <td>0.274311</td>\n",
       "      <td>0.709240</td>\n",
       "      <td>0.878058</td>\n",
       "      <td>-0.359608</td>\n",
       "      <td>0.955216</td>\n",
       "      <td>1.021274</td>\n",
       "      <td>0.666363</td>\n",
       "      <td>0.599590</td>\n",
       "      <td>-0.020334</td>\n",
       "      <td>2.313242</td>\n",
       "    </tr>\n",
       "    <tr>\n",
       "      <th>3</th>\n",
       "      <td>-1.438674</td>\n",
       "      <td>-0.450048</td>\n",
       "      <td>-2.169590</td>\n",
       "      <td>-0.571464</td>\n",
       "      <td>0.450703</td>\n",
       "      <td>0.305083</td>\n",
       "      <td>1.149649</td>\n",
       "      <td>-1.075829</td>\n",
       "      <td>-0.539800</td>\n",
       "      <td>1.310886</td>\n",
       "      <td>...</td>\n",
       "      <td>0.319337</td>\n",
       "      <td>0.821643</td>\n",
       "      <td>0.883327</td>\n",
       "      <td>-0.340886</td>\n",
       "      <td>0.802133</td>\n",
       "      <td>1.110536</td>\n",
       "      <td>0.651554</td>\n",
       "      <td>0.588959</td>\n",
       "      <td>-0.035932</td>\n",
       "      <td>1.936122</td>\n",
       "    </tr>\n",
       "    <tr>\n",
       "      <th>4</th>\n",
       "      <td>-1.419953</td>\n",
       "      <td>-0.609443</td>\n",
       "      <td>-2.241828</td>\n",
       "      <td>-0.571464</td>\n",
       "      <td>0.075163</td>\n",
       "      <td>-0.286456</td>\n",
       "      <td>1.249824</td>\n",
       "      <td>-0.613222</td>\n",
       "      <td>-0.495807</td>\n",
       "      <td>1.190505</td>\n",
       "      <td>...</td>\n",
       "      <td>0.449911</td>\n",
       "      <td>0.742299</td>\n",
       "      <td>0.830636</td>\n",
       "      <td>-0.322164</td>\n",
       "      <td>0.717534</td>\n",
       "      <td>1.129329</td>\n",
       "      <td>0.695981</td>\n",
       "      <td>0.759066</td>\n",
       "      <td>-0.000838</td>\n",
       "      <td>1.887319</td>\n",
       "    </tr>\n",
       "  </tbody>\n",
       "</table>\n",
       "<p>5 rows × 32 columns</p>\n",
       "</div>"
      ],
      "text/plain": [
       "         0         1         2         3         4         5         6   \\\n",
       "0 -0.794134 -0.131257 -0.903003 -0.463655  0.471960 -1.934637  1.752789   \n",
       "1 -0.788785 -0.198203 -0.878923 -0.453854  0.549902 -1.099257  1.498176   \n",
       "2 -1.171230 -0.402229 -1.413490 -0.600867  0.549902  0.305083  1.239389   \n",
       "3 -1.438674 -0.450048 -2.169590 -0.571464  0.450703  0.305083  1.149649   \n",
       "4 -1.419953 -0.609443 -2.241828 -0.571464  0.075163 -0.286456  1.249824   \n",
       "\n",
       "         7         8         9   ...        22        23        24        25  \\\n",
       "0 -0.985319 -0.469411  1.134326  ...  0.386875  0.900987  1.025592 -0.213575   \n",
       "1 -0.733902 -0.399023  1.198530  ...  0.355357  0.762135  0.951825 -0.314675   \n",
       "2 -0.980290 -0.671779  1.286810  ...  0.274311  0.709240  0.878058 -0.359608   \n",
       "3 -1.075829 -0.539800  1.310886  ...  0.319337  0.821643  0.883327 -0.340886   \n",
       "4 -0.613222 -0.495807  1.190505  ...  0.449911  0.742299  0.830636 -0.322164   \n",
       "\n",
       "         26        27        28        29        30        31  \n",
       "0  0.959244  0.875635  0.760154  0.769698  0.205824  2.433033  \n",
       "1  0.983415  0.683016  0.513337  0.599590  0.061551  2.579445  \n",
       "2  0.955216  1.021274  0.666363  0.599590 -0.020334  2.313242  \n",
       "3  0.802133  1.110536  0.651554  0.588959 -0.035932  1.936122  \n",
       "4  0.717534  1.129329  0.695981  0.759066 -0.000838  1.887319  \n",
       "\n",
       "[5 rows x 32 columns]"
      ]
     },
     "execution_count": 4,
     "metadata": {},
     "output_type": "execute_result"
    }
   ],
   "source": [
    "Xsc = StandardScaler().fit_transform(x_data)\n",
    "Xsc=pd.DataFrame(Xsc)\n",
    "y=pd.DataFrame(y_data)\n",
    "Xsc.head()"
   ]
  },
  {
   "cell_type": "markdown",
   "metadata": {},
   "source": [
    "# Preprocessing"
   ]
  },
  {
   "cell_type": "code",
   "execution_count": 38,
   "metadata": {},
   "outputs": [
    {
     "data": {
      "image/png": "[encoded data removed]",
      "text/plain": [
       "<Figure size 640x480 with 1 Axes>"
      ]
     },
     "metadata": {},
     "output_type": "display_data"
    }
   ],
   "source": [
    "def edit_y(data_frame):\n",
    "    data_frame = data_frame.drop(data_frame.columns[0], axis=1)\n",
    "    data_frame['output'] = data_frame.apply(lambda x: 1 if 1 in x.values else 0, axis=1)\n",
    "    y = data_frame['output']\n",
    "    return y\n",
    "\n",
    "y = edit_y(y_df)\n",
    "\n",
    "labels = ['hand_open','hand_closed']\n",
    "\n",
    "hand_closed = y[y.values == 1].shape[0]\n",
    "hand_open = y[y.values == 0].shape[0]\n",
    "\n",
    "colors = ['blue', 'orange']\n",
    "\n",
    "sn.barplot(x=labels, y=[hand_open,hand_closed], hue=colors)\n",
    "plt.show()"
   ]
  },
  {
   "cell_type": "code",
   "execution_count": 39,
   "metadata": {},
   "outputs": [
    {
     "name": "stdout",
     "output_type": "stream",
     "text": [
      "y predict = [0 0 0 ... 0 0 0]\n",
      "y test = 1049      0\n",
      "81838     0\n",
      "114086    0\n",
      "111552    0\n",
      "53425     0\n",
      "         ..\n",
      "115944    0\n",
      "105783    0\n",
      "96782     0\n",
      "31068     0\n",
      "98951     0\n",
      "Name: output, Length: 23900, dtype: int64\n",
      "Accuracy score: 0.8118\n",
      "[[15328  4024]\n",
      " [  475  4073]]\n"
     ]
    }
   ],
   "source": [
    "from sklearn.metrics import confusion_matrix\n",
    "\n",
    "\n",
    "X_train, X_test, y_train, y_test = train_test_split(Xsc, y, test_size = 0.2, random_state = 0)\n",
    "\n",
    "\n",
    "svc=SVC(class_weight='balanced') \n",
    "            \n",
    "# Fit classifier to training set\n",
    "svc.fit(X_train,y_train)\n",
    "\n",
    "# Make predictions on test set - unseen daa\n",
    "y_pred = svc.predict(X_test)\n",
    "\n",
    "print(f'y predict = {y_pred}')\n",
    "print(f'y test = {y_test}')\n",
    "\n",
    "print(f'Accuracy score: {accuracy_score(y_test, y_pred):0.4f}')\n",
    "\n",
    "# Confusion Matrix\n",
    "cf_matrix = confusion_matrix(y_test,y_pred)\n",
    "print(cf_matrix)"
   ]
  },
  {
   "cell_type": "code",
   "execution_count": 41,
   "metadata": {},
   "outputs": [
    {
     "data": {
      "image/png": "[encoded data removed]",
      "text/plain": [
       "<Figure size 400x300 with 2 Axes>"
      ]
     },
     "metadata": {},
     "output_type": "display_data"
    },
    {
     "name": "stdout",
     "output_type": "stream",
     "text": [
      "              precision    recall  f1-score   support\n",
      "\n",
      "           0       0.97      0.79      0.87     19352\n",
      "           1       0.50      0.90      0.64      4548\n",
      "\n",
      "    accuracy                           0.81     23900\n",
      "   macro avg       0.74      0.84      0.76     23900\n",
      "weighted avg       0.88      0.81      0.83     23900\n",
      "\n"
     ]
    }
   ],
   "source": [
    "from sklearn.metrics import classification_report\n",
    "import joblib\n",
    "\n",
    "plt.figure(figsize=(4,3))\n",
    "plt.title('Confusion Matrix for Seizure Dataset')\n",
    "sn.heatmap(cf_matrix, annot=True, fmt=' ', cmap='Reds')\n",
    "plt.show()\n",
    "\n",
    "print(classification_report(y_test, y_pred))\n",
    "\n",
    "joblib.dump(svc, 'svm_model.pkl')\n",
    "\n",
    "df = pd.concat([X_test,y_test], axis=1)\n",
    "df.to_csv('test.csv', index=False)"
   ]
  }
 ],
 "metadata": {
  "kernelspec": {
   "display_name": "Python 3",
   "language": "python",
   "name": "python3"
  },
  "language_info": {
   "codemirror_mode": {
    "name": "ipython",
    "version": 3
   },
   "file_extension": ".py",
   "mimetype": "text/x-python",
   "name": "python",
   "nbconvert_exporter": "python",
   "pygments_lexer": "ipython3",
   "version": "3.11.6"
  }
 },
 "nbformat": 4,
 "nbformat_minor": 2
}
